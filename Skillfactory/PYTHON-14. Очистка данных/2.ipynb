{
 "cells": [
  {
   "cell_type": "code",
   "execution_count": null,
   "metadata": {},
   "outputs": [],
   "source": []
  }
 ],
 "metadata": {
  "kernelspec": {
   "display_name": "base",
   "language": "python",
   "name": "python3"
  },
  "language_info": {
   "name": "python",
   "version": "3.8.8 (default, Apr 13 2021, 15:08:03) [MSC v.1916 64 bit (AMD64)]"
  },
  "orig_nbformat": 4,
  "vscode": {
   "interpreter": {
    "hash": "fd375b22d16823bb10603eec514c7aecb0918f0fa82cc2d59d62ab80d1e6d8da"
   }
  }
 },
 "nbformat": 4,
 "nbformat_minor": 2
}
