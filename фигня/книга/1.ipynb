{
 "cells": [
  {
   "cell_type": "code",
   "execution_count": 1,
   "metadata": {},
   "outputs": [
    {
     "name": "stdout",
     "output_type": "stream",
     "text": [
      "True\n",
      "True\n",
      "True\n",
      "True\n",
      "True\n",
      "True\n"
     ]
    },
    {
     "data": {
      "text/plain": [
       "True"
      ]
     },
     "execution_count": 1,
     "metadata": {},
     "output_type": "execute_result"
    }
   ],
   "source": [
    "i = 5\n",
    "print(isinstance(i, object))\n",
    "True\n",
    "print(isinstance('Oo', object))\n",
    "True\n",
    "print(isinstance([2, 4, 't'], object))\n",
    "True\n",
    "print(isinstance({'a': 3, 'b': 5}, object))\n",
    "True\n",
    "print(isinstance((2, 4, 'w'), object))\n",
    "True\n",
    "def test_func():\n",
    "    pass\n",
    "print(isinstance(test_func, object))\n",
    "True"
   ]
  },
  {
   "cell_type": "code",
   "execution_count": 2,
   "metadata": {},
   "outputs": [
    {
     "name": "stdout",
     "output_type": "stream",
     "text": [
      "[2, 3, 4, [1, 4]]\n",
      "[2, 3, 4, [1, 4], 10]\n",
      "[2, 3, 4, [1, 4]]\n",
      "[2, 3, 4, [1, 4, 'Oo'], 10]\n",
      "[2, 3, 4, [1, 4, 'Oo']]\n"
     ]
    }
   ],
   "source": [
    "my_list = [2, 3, 4, [1, 4]]\n",
    "print(my_list) # [2, 3, 4, [1, 4]]\n",
    "bad_list = my_list.copy()\n",
    "bad_list.append(10)\n",
    "print(bad_list) # [2, 3, 4, [1, 4], 10]\n",
    "print(my_list) # [2, 3, 4, [1, 4]]\n",
    "bad_list[3].append('Oo')\n",
    "print(bad_list) # [2, 3, 4, [1, 4, 'Oo'], 10]\n",
    "print(my_list) # [2, 3, 4, [1, 4, 'Oo']]"
   ]
  },
  {
   "cell_type": "code",
   "execution_count": 1,
   "metadata": {},
   "outputs": [
    {
     "name": "stdout",
     "output_type": "stream",
     "text": [
      "[2, 3, 4, [1, 4]]\n",
      "[2, 3, 4, [1, 4], 10]\n",
      "[2, 3, 4, [1, 4]]\n",
      "[2, 3, 4, [1, 4, 'Oo'], 10]\n",
      "[2, 3, 4, [1, 4]]\n"
     ]
    }
   ],
   "source": [
    "import copy\n",
    "my_list = [2, 3, 4, [1, 4]]\n",
    "print(my_list) # [2, 3, 4, [1, 4]]\n",
    "bad_list = copy.deepcopy(my_list)\n",
    "bad_list.append(10)\n",
    "print(bad_list) # [2, 3, 4, [1, 4], 10]\n",
    "print(my_list) # [2, 3, 4, [1, 4]]\n",
    "bad_list[3].append('Oo')\n",
    "print(bad_list) # [2, 3, 4, [1, 4, 'Oo'], 10]\n",
    "print(my_list) # [2, 3, 4, [1, 4]]"
   ]
  }
 ],
 "metadata": {
  "kernelspec": {
   "display_name": "Python 3.8.8 ('base')",
   "language": "python",
   "name": "python3"
  },
  "language_info": {
   "codemirror_mode": {
    "name": "ipython",
    "version": 3
   },
   "file_extension": ".py",
   "mimetype": "text/x-python",
   "name": "python",
   "nbconvert_exporter": "python",
   "pygments_lexer": "ipython3",
   "version": "3.8.8"
  },
  "orig_nbformat": 4,
  "vscode": {
   "interpreter": {
    "hash": "fd375b22d16823bb10603eec514c7aecb0918f0fa82cc2d59d62ab80d1e6d8da"
   }
  }
 },
 "nbformat": 4,
 "nbformat_minor": 2
}
